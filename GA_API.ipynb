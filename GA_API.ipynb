{
  "nbformat": 4,
  "nbformat_minor": 0,
  "metadata": {
    "colab": {
      "name": "GA-API.ipynb",
      "provenance": []
    },
    "kernelspec": {
      "name": "python3",
      "display_name": "Python 3"
    }
  },
  "cells": [
    {
      "cell_type": "code",
      "metadata": {
        "id": "phg_7-gb1Xa1",
        "outputId": "1f27608c-5b9c-488c-a495-c4145143f25e",
        "colab": {
          "base_uri": "https://localhost:8080/",
          "height": 684
        }
      },
      "source": [
        "# Install Google API Client\n",
        "!pip install --upgrade google-api-python-client\n",
        "# https://developers.google.com/analytics/devguides/reporting/core/v4/quickstart/service-py"
      ],
      "execution_count": 1,
      "outputs": [
        {
          "output_type": "stream",
          "text": [
            "Collecting google-api-python-client\n",
            "\u001b[?25l  Downloading https://files.pythonhosted.org/packages/51/9a/2976a839fffb35d341bdce0cb06f1f9da80b148bfe209c55d3e34e5cc146/google_api_python_client-1.12.3-py2.py3-none-any.whl (61kB)\n",
            "\r\u001b[K     |█████▍                          | 10kB 16.1MB/s eta 0:00:01\r\u001b[K     |██████████▊                     | 20kB 1.9MB/s eta 0:00:01\r\u001b[K     |████████████████                | 30kB 2.4MB/s eta 0:00:01\r\u001b[K     |█████████████████████▍          | 40kB 2.0MB/s eta 0:00:01\r\u001b[K     |██████████████████████████▊     | 51kB 2.3MB/s eta 0:00:01\r\u001b[K     |████████████████████████████████| 61kB 2.0MB/s \n",
            "\u001b[?25hRequirement already satisfied, skipping upgrade: httplib2<1dev,>=0.15.0 in /usr/local/lib/python3.6/dist-packages (from google-api-python-client) (0.17.4)\n",
            "Collecting google-api-core<2dev,>=1.21.0\n",
            "\u001b[?25l  Downloading https://files.pythonhosted.org/packages/3c/45/a5707ce2cbd6681c09e69a0ce10d9bebe98e0231c458a4dc652670f3584f/google_api_core-1.22.2-py2.py3-none-any.whl (91kB)\n",
            "\r\u001b[K     |███▋                            | 10kB 17.0MB/s eta 0:00:01\r\u001b[K     |███████▏                        | 20kB 22.3MB/s eta 0:00:01\r\u001b[K     |██████████▉                     | 30kB 27.3MB/s eta 0:00:01\r\u001b[K     |██████████████▍                 | 40kB 24.8MB/s eta 0:00:01\r\u001b[K     |██████████████████              | 51kB 20.2MB/s eta 0:00:01\r\u001b[K     |█████████████████████▋          | 61kB 17.6MB/s eta 0:00:01\r\u001b[K     |█████████████████████████▏      | 71kB 7.6MB/s eta 0:00:01\r\u001b[K     |████████████████████████████▊   | 81kB 8.3MB/s eta 0:00:01\r\u001b[K     |████████████████████████████████| 92kB 5.1MB/s \n",
            "\u001b[?25hRequirement already satisfied, skipping upgrade: google-auth>=1.16.0 in /usr/local/lib/python3.6/dist-packages (from google-api-python-client) (1.17.2)\n",
            "Requirement already satisfied, skipping upgrade: uritemplate<4dev,>=3.0.0 in /usr/local/lib/python3.6/dist-packages (from google-api-python-client) (3.0.1)\n",
            "Requirement already satisfied, skipping upgrade: google-auth-httplib2>=0.0.3 in /usr/local/lib/python3.6/dist-packages (from google-api-python-client) (0.0.4)\n",
            "Requirement already satisfied, skipping upgrade: six<2dev,>=1.13.0 in /usr/local/lib/python3.6/dist-packages (from google-api-python-client) (1.15.0)\n",
            "Requirement already satisfied, skipping upgrade: requests<3.0.0dev,>=2.18.0 in /usr/local/lib/python3.6/dist-packages (from google-api-core<2dev,>=1.21.0->google-api-python-client) (2.23.0)\n",
            "Requirement already satisfied, skipping upgrade: pytz in /usr/local/lib/python3.6/dist-packages (from google-api-core<2dev,>=1.21.0->google-api-python-client) (2018.9)\n",
            "Requirement already satisfied, skipping upgrade: googleapis-common-protos<2.0dev,>=1.6.0 in /usr/local/lib/python3.6/dist-packages (from google-api-core<2dev,>=1.21.0->google-api-python-client) (1.52.0)\n",
            "Requirement already satisfied, skipping upgrade: protobuf>=3.12.0 in /usr/local/lib/python3.6/dist-packages (from google-api-core<2dev,>=1.21.0->google-api-python-client) (3.12.4)\n",
            "Requirement already satisfied, skipping upgrade: setuptools>=34.0.0 in /usr/local/lib/python3.6/dist-packages (from google-api-core<2dev,>=1.21.0->google-api-python-client) (50.3.0)\n",
            "Requirement already satisfied, skipping upgrade: pyasn1-modules>=0.2.1 in /usr/local/lib/python3.6/dist-packages (from google-auth>=1.16.0->google-api-python-client) (0.2.8)\n",
            "Requirement already satisfied, skipping upgrade: rsa<5,>=3.1.4; python_version >= \"3\" in /usr/local/lib/python3.6/dist-packages (from google-auth>=1.16.0->google-api-python-client) (4.6)\n",
            "Requirement already satisfied, skipping upgrade: cachetools<5.0,>=2.0.0 in /usr/local/lib/python3.6/dist-packages (from google-auth>=1.16.0->google-api-python-client) (4.1.1)\n",
            "Requirement already satisfied, skipping upgrade: certifi>=2017.4.17 in /usr/local/lib/python3.6/dist-packages (from requests<3.0.0dev,>=2.18.0->google-api-core<2dev,>=1.21.0->google-api-python-client) (2020.6.20)\n",
            "Requirement already satisfied, skipping upgrade: urllib3!=1.25.0,!=1.25.1,<1.26,>=1.21.1 in /usr/local/lib/python3.6/dist-packages (from requests<3.0.0dev,>=2.18.0->google-api-core<2dev,>=1.21.0->google-api-python-client) (1.24.3)\n",
            "Requirement already satisfied, skipping upgrade: idna<3,>=2.5 in /usr/local/lib/python3.6/dist-packages (from requests<3.0.0dev,>=2.18.0->google-api-core<2dev,>=1.21.0->google-api-python-client) (2.10)\n",
            "Requirement already satisfied, skipping upgrade: chardet<4,>=3.0.2 in /usr/local/lib/python3.6/dist-packages (from requests<3.0.0dev,>=2.18.0->google-api-core<2dev,>=1.21.0->google-api-python-client) (3.0.4)\n",
            "Requirement already satisfied, skipping upgrade: pyasn1<0.5.0,>=0.4.6 in /usr/local/lib/python3.6/dist-packages (from pyasn1-modules>=0.2.1->google-auth>=1.16.0->google-api-python-client) (0.4.8)\n",
            "\u001b[31mERROR: google-api-core 1.22.2 has requirement google-auth<2.0dev,>=1.21.1, but you'll have google-auth 1.17.2 which is incompatible.\u001b[0m\n",
            "Installing collected packages: google-api-core, google-api-python-client\n",
            "  Found existing installation: google-api-core 1.16.0\n",
            "    Uninstalling google-api-core-1.16.0:\n",
            "      Successfully uninstalled google-api-core-1.16.0\n",
            "  Found existing installation: google-api-python-client 1.7.12\n",
            "    Uninstalling google-api-python-client-1.7.12:\n",
            "      Successfully uninstalled google-api-python-client-1.7.12\n",
            "Successfully installed google-api-core-1.22.2 google-api-python-client-1.12.3\n"
          ],
          "name": "stdout"
        },
        {
          "output_type": "display_data",
          "data": {
            "application/vnd.colab-display-data+json": {
              "pip_warning": {
                "packages": [
                  "google"
                ]
              }
            }
          },
          "metadata": {
            "tags": []
          }
        }
      ]
    },
    {
      "cell_type": "code",
      "metadata": {
        "id": "Yv9fd5-52Eem"
      },
      "source": [
        "from apiclient.discovery import build\n",
        "from oauth2client.service_account import ServiceAccountCredentials"
      ],
      "execution_count": 2,
      "outputs": []
    },
    {
      "cell_type": "code",
      "metadata": {
        "id": "fdt2wYQ11cYr"
      },
      "source": [
        "SCOPES = ['https://www.googleapis.com/auth/analytics.readonly']\n",
        "KEY_FILE_LOCATION = 'silken-physics-203919-57e8479ea0c4.json'\n",
        "credentials = ServiceAccountCredentials.from_json_keyfile_name(\n",
        "      KEY_FILE_LOCATION, SCOPES)\n",
        "analytics = build('analyticsreporting', 'v4', credentials=credentials)"
      ],
      "execution_count": 8,
      "outputs": []
    },
    {
      "cell_type": "code",
      "metadata": {
        "id": "d8yUMdPi2gUe"
      },
      "source": [
        "response = analytics.reports().batchGet(\n",
        "      body={\n",
        "        'reportRequests': [\n",
        "        {\n",
        "          'viewId': '115892775',\n",
        "          'dateRanges': [{'startDate': '7daysAgo', 'endDate': 'today'}],\n",
        "          'metrics': [{'expression': 'ga:sessions'}],\n",
        "          'dimensions': [{'name': 'ga:country'}]\n",
        "        }]\n",
        "      }\n",
        "  ).execute()"
      ],
      "execution_count": 9,
      "outputs": []
    },
    {
      "cell_type": "code",
      "metadata": {
        "id": "nmawQ2VF3A7v",
        "outputId": "cb38890b-9540-4aa8-b252-0f8b1710fedc",
        "colab": {
          "base_uri": "https://localhost:8080/",
          "height": 1000
        }
      },
      "source": [
        "for report in response.get('reports', []):\n",
        "    columnHeader = report.get('columnHeader', {})\n",
        "    dimensionHeaders = columnHeader.get('dimensions', [])\n",
        "    metricHeaders = columnHeader.get('metricHeader', {}).get('metricHeaderEntries', [])\n",
        "\n",
        "    for row in report.get('data', {}).get('rows', []):\n",
        "      dimensions = row.get('dimensions', [])\n",
        "      dateRangeValues = row.get('metrics', [])\n",
        "\n",
        "      for header, dimension in zip(dimensionHeaders, dimensions):\n",
        "        print(header + ': ' + dimension)\n",
        "\n",
        "      for i, values in enumerate(dateRangeValues):\n",
        "        print('Date range: ' + str(i))\n",
        "        for metricHeader, value in zip(metricHeaders, values.get('values')):\n",
        "          print(metricHeader.get('name') + ': ' + value)"
      ],
      "execution_count": 10,
      "outputs": [
        {
          "output_type": "stream",
          "text": [
            "ga:country: (not set)\n",
            "Date range: 0\n",
            "ga:sessions: 4\n",
            "ga:country: Argentina\n",
            "Date range: 0\n",
            "ga:sessions: 3\n",
            "ga:country: Armenia\n",
            "Date range: 0\n",
            "ga:sessions: 1\n",
            "ga:country: Australia\n",
            "Date range: 0\n",
            "ga:sessions: 4\n",
            "ga:country: Austria\n",
            "Date range: 0\n",
            "ga:sessions: 7\n",
            "ga:country: Bangladesh\n",
            "Date range: 0\n",
            "ga:sessions: 5\n",
            "ga:country: Belgium\n",
            "Date range: 0\n",
            "ga:sessions: 8\n",
            "ga:country: Bosnia & Herzegovina\n",
            "Date range: 0\n",
            "ga:sessions: 1\n",
            "ga:country: Botswana\n",
            "Date range: 0\n",
            "ga:sessions: 1\n",
            "ga:country: Brazil\n",
            "Date range: 0\n",
            "ga:sessions: 8\n",
            "ga:country: Bulgaria\n",
            "Date range: 0\n",
            "ga:sessions: 2\n",
            "ga:country: Canada\n",
            "Date range: 0\n",
            "ga:sessions: 9\n",
            "ga:country: Chile\n",
            "Date range: 0\n",
            "ga:sessions: 1\n",
            "ga:country: China\n",
            "Date range: 0\n",
            "ga:sessions: 6\n",
            "ga:country: Colombia\n",
            "Date range: 0\n",
            "ga:sessions: 3\n",
            "ga:country: Croatia\n",
            "Date range: 0\n",
            "ga:sessions: 3\n",
            "ga:country: Curaçao\n",
            "Date range: 0\n",
            "ga:sessions: 1\n",
            "ga:country: Cyprus\n",
            "Date range: 0\n",
            "ga:sessions: 3\n",
            "ga:country: Denmark\n",
            "Date range: 0\n",
            "ga:sessions: 7\n",
            "ga:country: Dominican Republic\n",
            "Date range: 0\n",
            "ga:sessions: 2\n",
            "ga:country: Egypt\n",
            "Date range: 0\n",
            "ga:sessions: 1\n",
            "ga:country: France\n",
            "Date range: 0\n",
            "ga:sessions: 22\n",
            "ga:country: Germany\n",
            "Date range: 0\n",
            "ga:sessions: 23\n",
            "ga:country: Ghana\n",
            "Date range: 0\n",
            "ga:sessions: 1\n",
            "ga:country: Greece\n",
            "Date range: 0\n",
            "ga:sessions: 23\n",
            "ga:country: Hong Kong\n",
            "Date range: 0\n",
            "ga:sessions: 2\n",
            "ga:country: Hungary\n",
            "Date range: 0\n",
            "ga:sessions: 2\n",
            "ga:country: India\n",
            "Date range: 0\n",
            "ga:sessions: 68\n",
            "ga:country: Indonesia\n",
            "Date range: 0\n",
            "ga:sessions: 2\n",
            "ga:country: Ireland\n",
            "Date range: 0\n",
            "ga:sessions: 2\n",
            "ga:country: Italy\n",
            "Date range: 0\n",
            "ga:sessions: 7\n",
            "ga:country: Jamaica\n",
            "Date range: 0\n",
            "ga:sessions: 1\n",
            "ga:country: Japan\n",
            "Date range: 0\n",
            "ga:sessions: 3\n",
            "ga:country: Jordan\n",
            "Date range: 0\n",
            "ga:sessions: 2\n",
            "ga:country: Kazakhstan\n",
            "Date range: 0\n",
            "ga:sessions: 2\n",
            "ga:country: Kenya\n",
            "Date range: 0\n",
            "ga:sessions: 1\n",
            "ga:country: Latvia\n",
            "Date range: 0\n",
            "ga:sessions: 1\n",
            "ga:country: Liechtenstein\n",
            "Date range: 0\n",
            "ga:sessions: 1\n",
            "ga:country: Lithuania\n",
            "Date range: 0\n",
            "ga:sessions: 1\n",
            "ga:country: Mexico\n",
            "Date range: 0\n",
            "ga:sessions: 2\n",
            "ga:country: Moldova\n",
            "Date range: 0\n",
            "ga:sessions: 1\n",
            "ga:country: Morocco\n",
            "Date range: 0\n",
            "ga:sessions: 3\n",
            "ga:country: Nepal\n",
            "Date range: 0\n",
            "ga:sessions: 1\n",
            "ga:country: Netherlands\n",
            "Date range: 0\n",
            "ga:sessions: 45\n",
            "ga:country: New Zealand\n",
            "Date range: 0\n",
            "ga:sessions: 2\n",
            "ga:country: Nigeria\n",
            "Date range: 0\n",
            "ga:sessions: 12\n",
            "ga:country: North Macedonia\n",
            "Date range: 0\n",
            "ga:sessions: 2\n",
            "ga:country: Norway\n",
            "Date range: 0\n",
            "ga:sessions: 5\n",
            "ga:country: Pakistan\n",
            "Date range: 0\n",
            "ga:sessions: 6\n",
            "ga:country: Panama\n",
            "Date range: 0\n",
            "ga:sessions: 1\n",
            "ga:country: Philippines\n",
            "Date range: 0\n",
            "ga:sessions: 16\n",
            "ga:country: Poland\n",
            "Date range: 0\n",
            "ga:sessions: 96\n",
            "ga:country: Portugal\n",
            "Date range: 0\n",
            "ga:sessions: 7\n",
            "ga:country: Qatar\n",
            "Date range: 0\n",
            "ga:sessions: 2\n",
            "ga:country: Romania\n",
            "Date range: 0\n",
            "ga:sessions: 10\n",
            "ga:country: Russia\n",
            "Date range: 0\n",
            "ga:sessions: 5\n",
            "ga:country: Serbia\n",
            "Date range: 0\n",
            "ga:sessions: 4\n",
            "ga:country: Singapore\n",
            "Date range: 0\n",
            "ga:sessions: 12\n",
            "ga:country: Slovenia\n",
            "Date range: 0\n",
            "ga:sessions: 3\n",
            "ga:country: South Africa\n",
            "Date range: 0\n",
            "ga:sessions: 4\n",
            "ga:country: South Korea\n",
            "Date range: 0\n",
            "ga:sessions: 1\n",
            "ga:country: Spain\n",
            "Date range: 0\n",
            "ga:sessions: 35\n",
            "ga:country: Sweden\n",
            "Date range: 0\n",
            "ga:sessions: 2\n",
            "ga:country: Switzerland\n",
            "Date range: 0\n",
            "ga:sessions: 17\n",
            "ga:country: Taiwan\n",
            "Date range: 0\n",
            "ga:sessions: 1\n",
            "ga:country: Thailand\n",
            "Date range: 0\n",
            "ga:sessions: 1\n",
            "ga:country: Tunisia\n",
            "Date range: 0\n",
            "ga:sessions: 2\n",
            "ga:country: Turkey\n",
            "Date range: 0\n",
            "ga:sessions: 18\n",
            "ga:country: Ukraine\n",
            "Date range: 0\n",
            "ga:sessions: 6\n",
            "ga:country: United Arab Emirates\n",
            "Date range: 0\n",
            "ga:sessions: 1\n",
            "ga:country: United Kingdom\n",
            "Date range: 0\n",
            "ga:sessions: 164\n",
            "ga:country: United States\n",
            "Date range: 0\n",
            "ga:sessions: 260\n",
            "ga:country: Vietnam\n",
            "Date range: 0\n",
            "ga:sessions: 2\n"
          ],
          "name": "stdout"
        }
      ]
    },
    {
      "cell_type": "code",
      "metadata": {
        "id": "NCe4cESh7oxR",
        "outputId": "0843bcbc-4756-4889-db51-a2bab965938c",
        "colab": {
          "base_uri": "https://localhost:8080/",
          "height": 1000
        }
      },
      "source": [
        "response"
      ],
      "execution_count": 11,
      "outputs": [
        {
          "output_type": "execute_result",
          "data": {
            "text/plain": [
              "{'reports': [{'columnHeader': {'dimensions': ['ga:country'],\n",
              "    'metricHeader': {'metricHeaderEntries': [{'name': 'ga:sessions',\n",
              "       'type': 'INTEGER'}]}},\n",
              "   'data': {'maximums': [{'values': ['260']}],\n",
              "    'minimums': [{'values': ['0']}],\n",
              "    'rowCount': 73,\n",
              "    'rows': [{'dimensions': ['(not set)'], 'metrics': [{'values': ['4']}]},\n",
              "     {'dimensions': ['Argentina'], 'metrics': [{'values': ['3']}]},\n",
              "     {'dimensions': ['Armenia'], 'metrics': [{'values': ['1']}]},\n",
              "     {'dimensions': ['Australia'], 'metrics': [{'values': ['4']}]},\n",
              "     {'dimensions': ['Austria'], 'metrics': [{'values': ['7']}]},\n",
              "     {'dimensions': ['Bangladesh'], 'metrics': [{'values': ['5']}]},\n",
              "     {'dimensions': ['Belgium'], 'metrics': [{'values': ['8']}]},\n",
              "     {'dimensions': ['Bosnia & Herzegovina'], 'metrics': [{'values': ['1']}]},\n",
              "     {'dimensions': ['Botswana'], 'metrics': [{'values': ['1']}]},\n",
              "     {'dimensions': ['Brazil'], 'metrics': [{'values': ['8']}]},\n",
              "     {'dimensions': ['Bulgaria'], 'metrics': [{'values': ['2']}]},\n",
              "     {'dimensions': ['Canada'], 'metrics': [{'values': ['9']}]},\n",
              "     {'dimensions': ['Chile'], 'metrics': [{'values': ['1']}]},\n",
              "     {'dimensions': ['China'], 'metrics': [{'values': ['6']}]},\n",
              "     {'dimensions': ['Colombia'], 'metrics': [{'values': ['3']}]},\n",
              "     {'dimensions': ['Croatia'], 'metrics': [{'values': ['3']}]},\n",
              "     {'dimensions': ['Curaçao'], 'metrics': [{'values': ['1']}]},\n",
              "     {'dimensions': ['Cyprus'], 'metrics': [{'values': ['3']}]},\n",
              "     {'dimensions': ['Denmark'], 'metrics': [{'values': ['7']}]},\n",
              "     {'dimensions': ['Dominican Republic'], 'metrics': [{'values': ['2']}]},\n",
              "     {'dimensions': ['Egypt'], 'metrics': [{'values': ['1']}]},\n",
              "     {'dimensions': ['France'], 'metrics': [{'values': ['22']}]},\n",
              "     {'dimensions': ['Germany'], 'metrics': [{'values': ['23']}]},\n",
              "     {'dimensions': ['Ghana'], 'metrics': [{'values': ['1']}]},\n",
              "     {'dimensions': ['Greece'], 'metrics': [{'values': ['23']}]},\n",
              "     {'dimensions': ['Hong Kong'], 'metrics': [{'values': ['2']}]},\n",
              "     {'dimensions': ['Hungary'], 'metrics': [{'values': ['2']}]},\n",
              "     {'dimensions': ['India'], 'metrics': [{'values': ['68']}]},\n",
              "     {'dimensions': ['Indonesia'], 'metrics': [{'values': ['2']}]},\n",
              "     {'dimensions': ['Ireland'], 'metrics': [{'values': ['2']}]},\n",
              "     {'dimensions': ['Italy'], 'metrics': [{'values': ['7']}]},\n",
              "     {'dimensions': ['Jamaica'], 'metrics': [{'values': ['1']}]},\n",
              "     {'dimensions': ['Japan'], 'metrics': [{'values': ['3']}]},\n",
              "     {'dimensions': ['Jordan'], 'metrics': [{'values': ['2']}]},\n",
              "     {'dimensions': ['Kazakhstan'], 'metrics': [{'values': ['2']}]},\n",
              "     {'dimensions': ['Kenya'], 'metrics': [{'values': ['1']}]},\n",
              "     {'dimensions': ['Latvia'], 'metrics': [{'values': ['1']}]},\n",
              "     {'dimensions': ['Liechtenstein'], 'metrics': [{'values': ['1']}]},\n",
              "     {'dimensions': ['Lithuania'], 'metrics': [{'values': ['1']}]},\n",
              "     {'dimensions': ['Mexico'], 'metrics': [{'values': ['2']}]},\n",
              "     {'dimensions': ['Moldova'], 'metrics': [{'values': ['1']}]},\n",
              "     {'dimensions': ['Morocco'], 'metrics': [{'values': ['3']}]},\n",
              "     {'dimensions': ['Nepal'], 'metrics': [{'values': ['1']}]},\n",
              "     {'dimensions': ['Netherlands'], 'metrics': [{'values': ['45']}]},\n",
              "     {'dimensions': ['New Zealand'], 'metrics': [{'values': ['2']}]},\n",
              "     {'dimensions': ['Nigeria'], 'metrics': [{'values': ['12']}]},\n",
              "     {'dimensions': ['North Macedonia'], 'metrics': [{'values': ['2']}]},\n",
              "     {'dimensions': ['Norway'], 'metrics': [{'values': ['5']}]},\n",
              "     {'dimensions': ['Pakistan'], 'metrics': [{'values': ['6']}]},\n",
              "     {'dimensions': ['Panama'], 'metrics': [{'values': ['1']}]},\n",
              "     {'dimensions': ['Philippines'], 'metrics': [{'values': ['16']}]},\n",
              "     {'dimensions': ['Poland'], 'metrics': [{'values': ['96']}]},\n",
              "     {'dimensions': ['Portugal'], 'metrics': [{'values': ['7']}]},\n",
              "     {'dimensions': ['Qatar'], 'metrics': [{'values': ['2']}]},\n",
              "     {'dimensions': ['Romania'], 'metrics': [{'values': ['10']}]},\n",
              "     {'dimensions': ['Russia'], 'metrics': [{'values': ['5']}]},\n",
              "     {'dimensions': ['Serbia'], 'metrics': [{'values': ['4']}]},\n",
              "     {'dimensions': ['Singapore'], 'metrics': [{'values': ['12']}]},\n",
              "     {'dimensions': ['Slovenia'], 'metrics': [{'values': ['3']}]},\n",
              "     {'dimensions': ['South Africa'], 'metrics': [{'values': ['4']}]},\n",
              "     {'dimensions': ['South Korea'], 'metrics': [{'values': ['1']}]},\n",
              "     {'dimensions': ['Spain'], 'metrics': [{'values': ['35']}]},\n",
              "     {'dimensions': ['Sweden'], 'metrics': [{'values': ['2']}]},\n",
              "     {'dimensions': ['Switzerland'], 'metrics': [{'values': ['17']}]},\n",
              "     {'dimensions': ['Taiwan'], 'metrics': [{'values': ['1']}]},\n",
              "     {'dimensions': ['Thailand'], 'metrics': [{'values': ['1']}]},\n",
              "     {'dimensions': ['Tunisia'], 'metrics': [{'values': ['2']}]},\n",
              "     {'dimensions': ['Turkey'], 'metrics': [{'values': ['18']}]},\n",
              "     {'dimensions': ['Ukraine'], 'metrics': [{'values': ['6']}]},\n",
              "     {'dimensions': ['United Arab Emirates'], 'metrics': [{'values': ['1']}]},\n",
              "     {'dimensions': ['United Kingdom'], 'metrics': [{'values': ['164']}]},\n",
              "     {'dimensions': ['United States'], 'metrics': [{'values': ['260']}]},\n",
              "     {'dimensions': ['Vietnam'], 'metrics': [{'values': ['2']}]}],\n",
              "    'totals': [{'values': ['993']}]}}]}"
            ]
          },
          "metadata": {
            "tags": []
          },
          "execution_count": 11
        }
      ]
    },
    {
      "cell_type": "code",
      "metadata": {
        "id": "5MTwqpzV7xFr",
        "outputId": "b661ad23-85b7-4aa7-8021-f9951db1c8e3",
        "colab": {
          "base_uri": "https://localhost:8080/",
          "height": 1000
        }
      },
      "source": [
        "response[\"reports\"][0][\"data\"][\"rows\"]"
      ],
      "execution_count": 12,
      "outputs": [
        {
          "output_type": "execute_result",
          "data": {
            "text/plain": [
              "[{'dimensions': ['(not set)'], 'metrics': [{'values': ['4']}]},\n",
              " {'dimensions': ['Argentina'], 'metrics': [{'values': ['3']}]},\n",
              " {'dimensions': ['Armenia'], 'metrics': [{'values': ['1']}]},\n",
              " {'dimensions': ['Australia'], 'metrics': [{'values': ['4']}]},\n",
              " {'dimensions': ['Austria'], 'metrics': [{'values': ['7']}]},\n",
              " {'dimensions': ['Bangladesh'], 'metrics': [{'values': ['5']}]},\n",
              " {'dimensions': ['Belgium'], 'metrics': [{'values': ['8']}]},\n",
              " {'dimensions': ['Bosnia & Herzegovina'], 'metrics': [{'values': ['1']}]},\n",
              " {'dimensions': ['Botswana'], 'metrics': [{'values': ['1']}]},\n",
              " {'dimensions': ['Brazil'], 'metrics': [{'values': ['8']}]},\n",
              " {'dimensions': ['Bulgaria'], 'metrics': [{'values': ['2']}]},\n",
              " {'dimensions': ['Canada'], 'metrics': [{'values': ['9']}]},\n",
              " {'dimensions': ['Chile'], 'metrics': [{'values': ['1']}]},\n",
              " {'dimensions': ['China'], 'metrics': [{'values': ['6']}]},\n",
              " {'dimensions': ['Colombia'], 'metrics': [{'values': ['3']}]},\n",
              " {'dimensions': ['Croatia'], 'metrics': [{'values': ['3']}]},\n",
              " {'dimensions': ['Curaçao'], 'metrics': [{'values': ['1']}]},\n",
              " {'dimensions': ['Cyprus'], 'metrics': [{'values': ['3']}]},\n",
              " {'dimensions': ['Denmark'], 'metrics': [{'values': ['7']}]},\n",
              " {'dimensions': ['Dominican Republic'], 'metrics': [{'values': ['2']}]},\n",
              " {'dimensions': ['Egypt'], 'metrics': [{'values': ['1']}]},\n",
              " {'dimensions': ['France'], 'metrics': [{'values': ['22']}]},\n",
              " {'dimensions': ['Germany'], 'metrics': [{'values': ['23']}]},\n",
              " {'dimensions': ['Ghana'], 'metrics': [{'values': ['1']}]},\n",
              " {'dimensions': ['Greece'], 'metrics': [{'values': ['23']}]},\n",
              " {'dimensions': ['Hong Kong'], 'metrics': [{'values': ['2']}]},\n",
              " {'dimensions': ['Hungary'], 'metrics': [{'values': ['2']}]},\n",
              " {'dimensions': ['India'], 'metrics': [{'values': ['68']}]},\n",
              " {'dimensions': ['Indonesia'], 'metrics': [{'values': ['2']}]},\n",
              " {'dimensions': ['Ireland'], 'metrics': [{'values': ['2']}]},\n",
              " {'dimensions': ['Italy'], 'metrics': [{'values': ['7']}]},\n",
              " {'dimensions': ['Jamaica'], 'metrics': [{'values': ['1']}]},\n",
              " {'dimensions': ['Japan'], 'metrics': [{'values': ['3']}]},\n",
              " {'dimensions': ['Jordan'], 'metrics': [{'values': ['2']}]},\n",
              " {'dimensions': ['Kazakhstan'], 'metrics': [{'values': ['2']}]},\n",
              " {'dimensions': ['Kenya'], 'metrics': [{'values': ['1']}]},\n",
              " {'dimensions': ['Latvia'], 'metrics': [{'values': ['1']}]},\n",
              " {'dimensions': ['Liechtenstein'], 'metrics': [{'values': ['1']}]},\n",
              " {'dimensions': ['Lithuania'], 'metrics': [{'values': ['1']}]},\n",
              " {'dimensions': ['Mexico'], 'metrics': [{'values': ['2']}]},\n",
              " {'dimensions': ['Moldova'], 'metrics': [{'values': ['1']}]},\n",
              " {'dimensions': ['Morocco'], 'metrics': [{'values': ['3']}]},\n",
              " {'dimensions': ['Nepal'], 'metrics': [{'values': ['1']}]},\n",
              " {'dimensions': ['Netherlands'], 'metrics': [{'values': ['45']}]},\n",
              " {'dimensions': ['New Zealand'], 'metrics': [{'values': ['2']}]},\n",
              " {'dimensions': ['Nigeria'], 'metrics': [{'values': ['12']}]},\n",
              " {'dimensions': ['North Macedonia'], 'metrics': [{'values': ['2']}]},\n",
              " {'dimensions': ['Norway'], 'metrics': [{'values': ['5']}]},\n",
              " {'dimensions': ['Pakistan'], 'metrics': [{'values': ['6']}]},\n",
              " {'dimensions': ['Panama'], 'metrics': [{'values': ['1']}]},\n",
              " {'dimensions': ['Philippines'], 'metrics': [{'values': ['16']}]},\n",
              " {'dimensions': ['Poland'], 'metrics': [{'values': ['96']}]},\n",
              " {'dimensions': ['Portugal'], 'metrics': [{'values': ['7']}]},\n",
              " {'dimensions': ['Qatar'], 'metrics': [{'values': ['2']}]},\n",
              " {'dimensions': ['Romania'], 'metrics': [{'values': ['10']}]},\n",
              " {'dimensions': ['Russia'], 'metrics': [{'values': ['5']}]},\n",
              " {'dimensions': ['Serbia'], 'metrics': [{'values': ['4']}]},\n",
              " {'dimensions': ['Singapore'], 'metrics': [{'values': ['12']}]},\n",
              " {'dimensions': ['Slovenia'], 'metrics': [{'values': ['3']}]},\n",
              " {'dimensions': ['South Africa'], 'metrics': [{'values': ['4']}]},\n",
              " {'dimensions': ['South Korea'], 'metrics': [{'values': ['1']}]},\n",
              " {'dimensions': ['Spain'], 'metrics': [{'values': ['35']}]},\n",
              " {'dimensions': ['Sweden'], 'metrics': [{'values': ['2']}]},\n",
              " {'dimensions': ['Switzerland'], 'metrics': [{'values': ['17']}]},\n",
              " {'dimensions': ['Taiwan'], 'metrics': [{'values': ['1']}]},\n",
              " {'dimensions': ['Thailand'], 'metrics': [{'values': ['1']}]},\n",
              " {'dimensions': ['Tunisia'], 'metrics': [{'values': ['2']}]},\n",
              " {'dimensions': ['Turkey'], 'metrics': [{'values': ['18']}]},\n",
              " {'dimensions': ['Ukraine'], 'metrics': [{'values': ['6']}]},\n",
              " {'dimensions': ['United Arab Emirates'], 'metrics': [{'values': ['1']}]},\n",
              " {'dimensions': ['United Kingdom'], 'metrics': [{'values': ['164']}]},\n",
              " {'dimensions': ['United States'], 'metrics': [{'values': ['260']}]},\n",
              " {'dimensions': ['Vietnam'], 'metrics': [{'values': ['2']}]}]"
            ]
          },
          "metadata": {
            "tags": []
          },
          "execution_count": 12
        }
      ]
    },
    {
      "cell_type": "code",
      "metadata": {
        "id": "NHA8lA6S7zp9",
        "outputId": "872bf625-c1c2-4a54-df01-39c8be6d8d04",
        "colab": {
          "base_uri": "https://localhost:8080/",
          "height": 419
        }
      },
      "source": [
        "import pandas as pd\n",
        "data_rows = response[\"reports\"][0][\"data\"][\"rows\"]\n",
        "pd.DataFrame(data_rows)"
      ],
      "execution_count": 13,
      "outputs": [
        {
          "output_type": "execute_result",
          "data": {
            "text/html": [
              "<div>\n",
              "<style scoped>\n",
              "    .dataframe tbody tr th:only-of-type {\n",
              "        vertical-align: middle;\n",
              "    }\n",
              "\n",
              "    .dataframe tbody tr th {\n",
              "        vertical-align: top;\n",
              "    }\n",
              "\n",
              "    .dataframe thead th {\n",
              "        text-align: right;\n",
              "    }\n",
              "</style>\n",
              "<table border=\"1\" class=\"dataframe\">\n",
              "  <thead>\n",
              "    <tr style=\"text-align: right;\">\n",
              "      <th></th>\n",
              "      <th>dimensions</th>\n",
              "      <th>metrics</th>\n",
              "    </tr>\n",
              "  </thead>\n",
              "  <tbody>\n",
              "    <tr>\n",
              "      <th>0</th>\n",
              "      <td>[(not set)]</td>\n",
              "      <td>[{'values': ['4']}]</td>\n",
              "    </tr>\n",
              "    <tr>\n",
              "      <th>1</th>\n",
              "      <td>[Argentina]</td>\n",
              "      <td>[{'values': ['3']}]</td>\n",
              "    </tr>\n",
              "    <tr>\n",
              "      <th>2</th>\n",
              "      <td>[Armenia]</td>\n",
              "      <td>[{'values': ['1']}]</td>\n",
              "    </tr>\n",
              "    <tr>\n",
              "      <th>3</th>\n",
              "      <td>[Australia]</td>\n",
              "      <td>[{'values': ['4']}]</td>\n",
              "    </tr>\n",
              "    <tr>\n",
              "      <th>4</th>\n",
              "      <td>[Austria]</td>\n",
              "      <td>[{'values': ['7']}]</td>\n",
              "    </tr>\n",
              "    <tr>\n",
              "      <th>...</th>\n",
              "      <td>...</td>\n",
              "      <td>...</td>\n",
              "    </tr>\n",
              "    <tr>\n",
              "      <th>68</th>\n",
              "      <td>[Ukraine]</td>\n",
              "      <td>[{'values': ['6']}]</td>\n",
              "    </tr>\n",
              "    <tr>\n",
              "      <th>69</th>\n",
              "      <td>[United Arab Emirates]</td>\n",
              "      <td>[{'values': ['1']}]</td>\n",
              "    </tr>\n",
              "    <tr>\n",
              "      <th>70</th>\n",
              "      <td>[United Kingdom]</td>\n",
              "      <td>[{'values': ['164']}]</td>\n",
              "    </tr>\n",
              "    <tr>\n",
              "      <th>71</th>\n",
              "      <td>[United States]</td>\n",
              "      <td>[{'values': ['260']}]</td>\n",
              "    </tr>\n",
              "    <tr>\n",
              "      <th>72</th>\n",
              "      <td>[Vietnam]</td>\n",
              "      <td>[{'values': ['2']}]</td>\n",
              "    </tr>\n",
              "  </tbody>\n",
              "</table>\n",
              "<p>73 rows × 2 columns</p>\n",
              "</div>"
            ],
            "text/plain": [
              "                dimensions                metrics\n",
              "0              [(not set)]    [{'values': ['4']}]\n",
              "1              [Argentina]    [{'values': ['3']}]\n",
              "2                [Armenia]    [{'values': ['1']}]\n",
              "3              [Australia]    [{'values': ['4']}]\n",
              "4                [Austria]    [{'values': ['7']}]\n",
              "..                     ...                    ...\n",
              "68               [Ukraine]    [{'values': ['6']}]\n",
              "69  [United Arab Emirates]    [{'values': ['1']}]\n",
              "70        [United Kingdom]  [{'values': ['164']}]\n",
              "71         [United States]  [{'values': ['260']}]\n",
              "72               [Vietnam]    [{'values': ['2']}]\n",
              "\n",
              "[73 rows x 2 columns]"
            ]
          },
          "metadata": {
            "tags": []
          },
          "execution_count": 13
        }
      ]
    },
    {
      "cell_type": "code",
      "metadata": {
        "id": "ox2iDWly74S4"
      },
      "source": [
        "countries = pd.DataFrame(data_rows)"
      ],
      "execution_count": 14,
      "outputs": []
    },
    {
      "cell_type": "code",
      "metadata": {
        "id": "N9DpxG4C8Awj"
      },
      "source": [
        "def cleanParens(x):\n",
        "    x = x.replace('[', '')\n",
        "    x = x.replace(']', '')\n",
        "    x = x.replace(\"{'values': '\", '')\n",
        "    x = x.replace(\"'}\", '')\n",
        "    x = x.replace(\"'\", '')\n",
        "    return x"
      ],
      "execution_count": 15,
      "outputs": []
    },
    {
      "cell_type": "code",
      "metadata": {
        "id": "8cfjEBOT8BPE"
      },
      "source": [
        "countries[\"dimensions\"] = countries[\"dimensions\"].astype('str')\n",
        "countries[\"dimensions\"] = countries[\"dimensions\"].apply(cleanParens)\n",
        "\n",
        "countries[\"metrics\"] = countries[\"metrics\"].astype('str')\n",
        "countries[\"metrics\"] = countries[\"metrics\"].apply(cleanParens)"
      ],
      "execution_count": 16,
      "outputs": []
    },
    {
      "cell_type": "code",
      "metadata": {
        "id": "KrORqgS18C4F",
        "outputId": "8c0f85d5-3c05-472f-f053-23892490d686",
        "colab": {
          "base_uri": "https://localhost:8080/",
          "height": 204
        }
      },
      "source": [
        "countries.head()"
      ],
      "execution_count": 17,
      "outputs": [
        {
          "output_type": "execute_result",
          "data": {
            "text/html": [
              "<div>\n",
              "<style scoped>\n",
              "    .dataframe tbody tr th:only-of-type {\n",
              "        vertical-align: middle;\n",
              "    }\n",
              "\n",
              "    .dataframe tbody tr th {\n",
              "        vertical-align: top;\n",
              "    }\n",
              "\n",
              "    .dataframe thead th {\n",
              "        text-align: right;\n",
              "    }\n",
              "</style>\n",
              "<table border=\"1\" class=\"dataframe\">\n",
              "  <thead>\n",
              "    <tr style=\"text-align: right;\">\n",
              "      <th></th>\n",
              "      <th>dimensions</th>\n",
              "      <th>metrics</th>\n",
              "    </tr>\n",
              "  </thead>\n",
              "  <tbody>\n",
              "    <tr>\n",
              "      <th>0</th>\n",
              "      <td>(not set)</td>\n",
              "      <td>4</td>\n",
              "    </tr>\n",
              "    <tr>\n",
              "      <th>1</th>\n",
              "      <td>Argentina</td>\n",
              "      <td>3</td>\n",
              "    </tr>\n",
              "    <tr>\n",
              "      <th>2</th>\n",
              "      <td>Armenia</td>\n",
              "      <td>1</td>\n",
              "    </tr>\n",
              "    <tr>\n",
              "      <th>3</th>\n",
              "      <td>Australia</td>\n",
              "      <td>4</td>\n",
              "    </tr>\n",
              "    <tr>\n",
              "      <th>4</th>\n",
              "      <td>Austria</td>\n",
              "      <td>7</td>\n",
              "    </tr>\n",
              "  </tbody>\n",
              "</table>\n",
              "</div>"
            ],
            "text/plain": [
              "  dimensions metrics\n",
              "0  (not set)       4\n",
              "1  Argentina       3\n",
              "2    Armenia       1\n",
              "3  Australia       4\n",
              "4    Austria       7"
            ]
          },
          "metadata": {
            "tags": []
          },
          "execution_count": 17
        }
      ]
    },
    {
      "cell_type": "code",
      "metadata": {
        "id": "ALhFNKVg8Ers"
      },
      "source": [
        "countries[\"metrics\"] = countries[\"metrics\"].astype(\"int\")"
      ],
      "execution_count": 18,
      "outputs": []
    },
    {
      "cell_type": "code",
      "metadata": {
        "id": "mi_sDkbv8GpK",
        "outputId": "a7b837cc-914d-4f5b-de6d-1489ad2472d4",
        "colab": {
          "base_uri": "https://localhost:8080/",
          "height": 297
        }
      },
      "source": [
        "countries.describe()"
      ],
      "execution_count": 19,
      "outputs": [
        {
          "output_type": "execute_result",
          "data": {
            "text/html": [
              "<div>\n",
              "<style scoped>\n",
              "    .dataframe tbody tr th:only-of-type {\n",
              "        vertical-align: middle;\n",
              "    }\n",
              "\n",
              "    .dataframe tbody tr th {\n",
              "        vertical-align: top;\n",
              "    }\n",
              "\n",
              "    .dataframe thead th {\n",
              "        text-align: right;\n",
              "    }\n",
              "</style>\n",
              "<table border=\"1\" class=\"dataframe\">\n",
              "  <thead>\n",
              "    <tr style=\"text-align: right;\">\n",
              "      <th></th>\n",
              "      <th>metrics</th>\n",
              "    </tr>\n",
              "  </thead>\n",
              "  <tbody>\n",
              "    <tr>\n",
              "      <th>count</th>\n",
              "      <td>73.000000</td>\n",
              "    </tr>\n",
              "    <tr>\n",
              "      <th>mean</th>\n",
              "      <td>13.602740</td>\n",
              "    </tr>\n",
              "    <tr>\n",
              "      <th>std</th>\n",
              "      <td>37.577971</td>\n",
              "    </tr>\n",
              "    <tr>\n",
              "      <th>min</th>\n",
              "      <td>1.000000</td>\n",
              "    </tr>\n",
              "    <tr>\n",
              "      <th>25%</th>\n",
              "      <td>1.000000</td>\n",
              "    </tr>\n",
              "    <tr>\n",
              "      <th>50%</th>\n",
              "      <td>3.000000</td>\n",
              "    </tr>\n",
              "    <tr>\n",
              "      <th>75%</th>\n",
              "      <td>7.000000</td>\n",
              "    </tr>\n",
              "    <tr>\n",
              "      <th>max</th>\n",
              "      <td>260.000000</td>\n",
              "    </tr>\n",
              "  </tbody>\n",
              "</table>\n",
              "</div>"
            ],
            "text/plain": [
              "          metrics\n",
              "count   73.000000\n",
              "mean    13.602740\n",
              "std     37.577971\n",
              "min      1.000000\n",
              "25%      1.000000\n",
              "50%      3.000000\n",
              "75%      7.000000\n",
              "max    260.000000"
            ]
          },
          "metadata": {
            "tags": []
          },
          "execution_count": 19
        }
      ]
    },
    {
      "cell_type": "code",
      "metadata": {
        "id": "JqYyWN1P8IAe"
      },
      "source": [
        "dimension = response[\"reports\"][0][\"columnHeader\"][\"dimensions\"][0]\n",
        "metric = response[\"reports\"][0][\"columnHeader\"][\"metricHeader\"][\"metricHeaderEntries\"][0][\"name\"]\n",
        "\n",
        "countries.columns = [dimension, metric]"
      ],
      "execution_count": 20,
      "outputs": []
    },
    {
      "cell_type": "code",
      "metadata": {
        "id": "W6IgErmf8Ltz",
        "outputId": "785e16b1-f491-413f-8643-297ee8ed08d3",
        "colab": {
          "base_uri": "https://localhost:8080/",
          "height": 204
        }
      },
      "source": [
        "countries.head()"
      ],
      "execution_count": 21,
      "outputs": [
        {
          "output_type": "execute_result",
          "data": {
            "text/html": [
              "<div>\n",
              "<style scoped>\n",
              "    .dataframe tbody tr th:only-of-type {\n",
              "        vertical-align: middle;\n",
              "    }\n",
              "\n",
              "    .dataframe tbody tr th {\n",
              "        vertical-align: top;\n",
              "    }\n",
              "\n",
              "    .dataframe thead th {\n",
              "        text-align: right;\n",
              "    }\n",
              "</style>\n",
              "<table border=\"1\" class=\"dataframe\">\n",
              "  <thead>\n",
              "    <tr style=\"text-align: right;\">\n",
              "      <th></th>\n",
              "      <th>ga:country</th>\n",
              "      <th>ga:sessions</th>\n",
              "    </tr>\n",
              "  </thead>\n",
              "  <tbody>\n",
              "    <tr>\n",
              "      <th>0</th>\n",
              "      <td>(not set)</td>\n",
              "      <td>4</td>\n",
              "    </tr>\n",
              "    <tr>\n",
              "      <th>1</th>\n",
              "      <td>Argentina</td>\n",
              "      <td>3</td>\n",
              "    </tr>\n",
              "    <tr>\n",
              "      <th>2</th>\n",
              "      <td>Armenia</td>\n",
              "      <td>1</td>\n",
              "    </tr>\n",
              "    <tr>\n",
              "      <th>3</th>\n",
              "      <td>Australia</td>\n",
              "      <td>4</td>\n",
              "    </tr>\n",
              "    <tr>\n",
              "      <th>4</th>\n",
              "      <td>Austria</td>\n",
              "      <td>7</td>\n",
              "    </tr>\n",
              "  </tbody>\n",
              "</table>\n",
              "</div>"
            ],
            "text/plain": [
              "  ga:country  ga:sessions\n",
              "0  (not set)            4\n",
              "1  Argentina            3\n",
              "2    Armenia            1\n",
              "3  Australia            4\n",
              "4    Austria            7"
            ]
          },
          "metadata": {
            "tags": []
          },
          "execution_count": 21
        }
      ]
    },
    {
      "cell_type": "code",
      "metadata": {
        "id": "b3oKzp6f8NXU",
        "outputId": "219e5e5b-3f17-47d0-d8f8-788b0dc9be32",
        "colab": {
          "base_uri": "https://localhost:8080/",
          "height": 391
        }
      },
      "source": [
        "response = analytics.reports().batchGet(\n",
        "      body={\n",
        "        'reportRequests': [\n",
        "        {\n",
        "          'viewId': '115892775',\n",
        "          'dateRanges': [{'startDate': '7daysAgo', 'endDate': 'today'}],\n",
        "          'metrics': [\n",
        "                      {'expression': 'ga:sessions'}, \n",
        "                      {'expression': 'ga:goal7completions'},\n",
        "                      {\"expression\": \"ga:pageviews\"}\n",
        "                      ],\n",
        "          'dimensions': [{'name': 'ga:date'}]\n",
        "        }]\n",
        "      }\n",
        "  ).execute()\n",
        "response"
      ],
      "execution_count": 23,
      "outputs": [
        {
          "output_type": "execute_result",
          "data": {
            "text/plain": [
              "{'reports': [{'columnHeader': {'dimensions': ['ga:date'],\n",
              "    'metricHeader': {'metricHeaderEntries': [{'name': 'ga:sessions',\n",
              "       'type': 'INTEGER'},\n",
              "      {'name': 'ga:goal7completions', 'type': 'INTEGER'},\n",
              "      {'name': 'ga:pageviews', 'type': 'INTEGER'}]}},\n",
              "   'data': {'maximums': [{'values': ['172', '2', '250']}],\n",
              "    'minimums': [{'values': ['60', '0', '83']}],\n",
              "    'rowCount': 8,\n",
              "    'rows': [{'dimensions': ['20200924'],\n",
              "      'metrics': [{'values': ['170', '2', '250']}]},\n",
              "     {'dimensions': ['20200925'],\n",
              "      'metrics': [{'values': ['150', '0', '213']}]},\n",
              "     {'dimensions': ['20200926'], 'metrics': [{'values': ['86', '0', '121']}]},\n",
              "     {'dimensions': ['20200927'], 'metrics': [{'values': ['79', '2', '105']}]},\n",
              "     {'dimensions': ['20200928'],\n",
              "      'metrics': [{'values': ['155', '2', '224']}]},\n",
              "     {'dimensions': ['20200929'],\n",
              "      'metrics': [{'values': ['172', '1', '237']}]},\n",
              "     {'dimensions': ['20200930'],\n",
              "      'metrics': [{'values': ['127', '1', '181']}]},\n",
              "     {'dimensions': ['20201001'], 'metrics': [{'values': ['60', '0', '83']}]}],\n",
              "    'totals': [{'values': ['999', '8', '1414']}]}}]}"
            ]
          },
          "metadata": {
            "tags": []
          },
          "execution_count": 23
        }
      ]
    },
    {
      "cell_type": "code",
      "metadata": {
        "id": "0CXGS5fsJ8Jg",
        "outputId": "fbec8bad-514a-4e2f-97c9-0f64c87d070f",
        "colab": {
          "base_uri": "https://localhost:8080/",
          "height": 34
        }
      },
      "source": [
        "response[\"reports\"][0]['columnHeader']['dimensions']"
      ],
      "execution_count": 35,
      "outputs": [
        {
          "output_type": "execute_result",
          "data": {
            "text/plain": [
              "['ga:date']"
            ]
          },
          "metadata": {
            "tags": []
          },
          "execution_count": 35
        }
      ]
    },
    {
      "cell_type": "code",
      "metadata": {
        "id": "hf_hZokjKm51",
        "outputId": "dc5b2a4e-7741-42a0-8f93-a1c4543680e4",
        "colab": {
          "base_uri": "https://localhost:8080/",
          "height": 34
        }
      },
      "source": [
        "[metric['name'] for metric in response[\"reports\"][0]['columnHeader']['metricHeader']['metricHeaderEntries']]"
      ],
      "execution_count": 34,
      "outputs": [
        {
          "output_type": "execute_result",
          "data": {
            "text/plain": [
              "['ga:sessions', 'ga:goal7completions', 'ga:pageviews']"
            ]
          },
          "metadata": {
            "tags": []
          },
          "execution_count": 34
        }
      ]
    },
    {
      "cell_type": "code",
      "metadata": {
        "id": "tj3VEJBlJToY",
        "outputId": "aa72b699-61df-4e03-8434-a897de09cef8",
        "colab": {
          "base_uri": "https://localhost:8080/",
          "height": 153
        }
      },
      "source": [
        "[row['dimensions'] for row in response[\"reports\"][0][\"data\"][\"rows\"]]"
      ],
      "execution_count": 37,
      "outputs": [
        {
          "output_type": "execute_result",
          "data": {
            "text/plain": [
              "[['20200924'],\n",
              " ['20200925'],\n",
              " ['20200926'],\n",
              " ['20200927'],\n",
              " ['20200928'],\n",
              " ['20200929'],\n",
              " ['20200930'],\n",
              " ['20201001']]"
            ]
          },
          "metadata": {
            "tags": []
          },
          "execution_count": 37
        }
      ]
    },
    {
      "cell_type": "code",
      "metadata": {
        "id": "TxaPwAzQKyA1",
        "outputId": "2482e5e2-5f38-4bb8-b66b-f5dcaec061b9",
        "colab": {
          "base_uri": "https://localhost:8080/",
          "height": 153
        }
      },
      "source": [
        "[row['metrics'][0]['values'] for row in response[\"reports\"][0][\"data\"][\"rows\"]]"
      ],
      "execution_count": 45,
      "outputs": [
        {
          "output_type": "execute_result",
          "data": {
            "text/plain": [
              "[['170', '2', '250'],\n",
              " ['150', '0', '213'],\n",
              " ['86', '0', '121'],\n",
              " ['79', '2', '105'],\n",
              " ['155', '2', '224'],\n",
              " ['172', '1', '237'],\n",
              " ['127', '1', '181'],\n",
              " ['60', '0', '83']]"
            ]
          },
          "metadata": {
            "tags": []
          },
          "execution_count": 45
        }
      ]
    },
    {
      "cell_type": "code",
      "metadata": {
        "id": "ovJSQekHLhQo",
        "outputId": "c8bc5fe9-be36-4507-c149-d2da97c83516",
        "colab": {
          "base_uri": "https://localhost:8080/",
          "height": 204
        }
      },
      "source": [
        "dimensions_cols = response[\"reports\"][0]['columnHeader']['dimensions']\n",
        "metrics_cols = [metric['name'] for metric in response[\"reports\"][0]['columnHeader']['metricHeader']['metricHeaderEntries']]\n",
        "\n",
        "dimensions_data = [row['dimensions'] for row in response[\"reports\"][0][\"data\"][\"rows\"]]\n",
        "metrics_data = [row['metrics'][0]['values'] for row in response[\"reports\"][0][\"data\"][\"rows\"]]\n",
        "\n",
        "df = pd.DataFrame(data=dimensions_data, columns=dimensions_cols)\n",
        "df[metrics_cols] = metrics_data\n",
        "df.head()"
      ],
      "execution_count": 53,
      "outputs": [
        {
          "output_type": "execute_result",
          "data": {
            "text/html": [
              "<div>\n",
              "<style scoped>\n",
              "    .dataframe tbody tr th:only-of-type {\n",
              "        vertical-align: middle;\n",
              "    }\n",
              "\n",
              "    .dataframe tbody tr th {\n",
              "        vertical-align: top;\n",
              "    }\n",
              "\n",
              "    .dataframe thead th {\n",
              "        text-align: right;\n",
              "    }\n",
              "</style>\n",
              "<table border=\"1\" class=\"dataframe\">\n",
              "  <thead>\n",
              "    <tr style=\"text-align: right;\">\n",
              "      <th></th>\n",
              "      <th>ga:date</th>\n",
              "      <th>ga:sessions</th>\n",
              "      <th>ga:goal7completions</th>\n",
              "      <th>ga:pageviews</th>\n",
              "    </tr>\n",
              "  </thead>\n",
              "  <tbody>\n",
              "    <tr>\n",
              "      <th>0</th>\n",
              "      <td>20200924</td>\n",
              "      <td>170</td>\n",
              "      <td>2</td>\n",
              "      <td>250</td>\n",
              "    </tr>\n",
              "    <tr>\n",
              "      <th>1</th>\n",
              "      <td>20200925</td>\n",
              "      <td>150</td>\n",
              "      <td>0</td>\n",
              "      <td>213</td>\n",
              "    </tr>\n",
              "    <tr>\n",
              "      <th>2</th>\n",
              "      <td>20200926</td>\n",
              "      <td>86</td>\n",
              "      <td>0</td>\n",
              "      <td>121</td>\n",
              "    </tr>\n",
              "    <tr>\n",
              "      <th>3</th>\n",
              "      <td>20200927</td>\n",
              "      <td>79</td>\n",
              "      <td>2</td>\n",
              "      <td>105</td>\n",
              "    </tr>\n",
              "    <tr>\n",
              "      <th>4</th>\n",
              "      <td>20200928</td>\n",
              "      <td>155</td>\n",
              "      <td>2</td>\n",
              "      <td>224</td>\n",
              "    </tr>\n",
              "  </tbody>\n",
              "</table>\n",
              "</div>"
            ],
            "text/plain": [
              "    ga:date ga:sessions ga:goal7completions ga:pageviews\n",
              "0  20200924         170                   2          250\n",
              "1  20200925         150                   0          213\n",
              "2  20200926          86                   0          121\n",
              "3  20200927          79                   2          105\n",
              "4  20200928         155                   2          224"
            ]
          },
          "metadata": {
            "tags": []
          },
          "execution_count": 53
        }
      ]
    },
    {
      "cell_type": "code",
      "metadata": {
        "id": "HuFiasR2Mhz6"
      },
      "source": [
        ""
      ],
      "execution_count": null,
      "outputs": []
    }
  ]
}